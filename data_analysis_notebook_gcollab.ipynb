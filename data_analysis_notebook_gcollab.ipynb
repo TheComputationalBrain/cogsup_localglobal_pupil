{
 "cells": [
  {
   "cell_type": "markdown",
   "metadata": {},
   "source": [
    "#  Analysis of one participant, pupil size in the local global task\n",
    "__Content creator:__ Florent Meyniel, NeuroSpin, CEA Paris-Saclay & Institut de Neuromodulation, GHU Paris\n",
    "\n",
    "The participant analyzed in this notebook has been collected for the study [Mazancieux et al (2023)](https://www.sciencedirect.com/science/article/pii/S2211124723014171)\n",
    "The original paper introducing the local-global paradigm is [Bekinschtein et at 2009](https://www.sciencedirect.com/science/article/pii/S2211124723014171)\n"
   ]
  },
  {
   "cell_type": "code",
   "execution_count": 15,
   "metadata": {},
   "outputs": [],
   "source": [
    "%matplotlib inline"
   ]
  },
  {
   "cell_type": "markdown",
   "metadata": {},
   "source": [
    "## How to use a Python notebook?\n",
    "You can skip the remainder of this section if you already know about Python notebooks.\n",
    "\n",
    "The goal of today's session is *not* to learn how to program with Python. However, we will use Python to run some examples and do computations, so here is a quick introduction to Python notebook.\n",
    "\n",
    "A notebook mixes text, lines of code that can be executed, and results that are displayed.\n",
    "\n",
    "There are different ways to execute the code in a cell:\n",
    "- put the cursor in the cell of code and press \"SHIFT\"+\"ENTER\".\n",
    "- click on the \"run\" button (the triangle) in the menu bar at the top of this page.\n",
    "\n",
    "For example, the next line asks Python to compute \"1+1\". Execute the line of code to display the (expected) result."
   ]
  },
  {
   "cell_type": "code",
   "execution_count": null,
   "metadata": {},
   "outputs": [],
   "source": [
    "1+1"
   ]
  },
  {
   "cell_type": "markdown",
   "metadata": {},
   "source": [
    "## Set-up the environment"
   ]
  },
  {
   "cell_type": "code",
   "execution_count": null,
   "metadata": {},
   "outputs": [],
   "source": [
    "! git clone recurse-submodules https://github.com/TheComputationalBrain/cogsup_localglobal_pupil.git"
   ]
  },
  {
   "cell_type": "code",
   "execution_count": null,
   "metadata": {},
   "outputs": [],
   "source": [
    "cd cogsup_localglobal_pupil"
   ]
  },
  {
   "cell_type": "code",
   "execution_count": 17,
   "metadata": {},
   "outputs": [],
   "source": [
    "import glob\n",
    "import os\n",
    "import scipy\n",
    "import numpy as np\n",
    "import pandas as pd\n",
    "import matplotlib.pyplot as plt\n",
    "from data_analysis import process_eyelink_data"
   ]
  },
  {
   "cell_type": "markdown",
   "metadata": {},
   "source": [
    "# Analyse\n",
    "Get the files containing the pupil recording"
   ]
  },
  {
   "cell_type": "code",
   "execution_count": 18,
   "metadata": {},
   "outputs": [],
   "source": [
    "data_files = sorted(glob.glob(os.path.join('example_data_set', '*.asc')))"
   ]
  },
  {
   "cell_type": "markdown",
   "metadata": {},
   "source": [
    "Preprocess the data from each session"
   ]
  },
  {
   "cell_type": "code",
   "execution_count": null,
   "metadata": {},
   "outputs": [],
   "source": [
    "data = process_eyelink_data(data_files, baseline=[-0.2, 0], window=[-0.25, 3], reject_epoch=True, plot=True)"
   ]
  },
  {
   "cell_type": "markdown",
   "metadata": {},
   "source": [
    "Let's have a look at how the trials are coded"
   ]
  },
  {
   "cell_type": "code",
   "execution_count": null,
   "metadata": {},
   "outputs": [],
   "source": [
    "print(data['info'])"
   ]
  },
  {
   "cell_type": "markdown",
   "metadata": {},
   "source": [
    "Let's recode the stimuli as local standard global standard (LSGS), local standard global deviant (LSGD), local deviant global standard (LDGS), local deviant global deviant (LDGD)"
   ]
  },
  {
   "cell_type": "code",
   "execution_count": 21,
   "metadata": {},
   "outputs": [],
   "source": [
    "data['info']['stim_type'] = None\n",
    "for sess_num in data['info']['session'].unique():\n",
    "    for block_num in data['info']['block'].unique():\n",
    "\n",
    "        stim_selection = (data['info']['session'] == sess_num) & (data['info']['block'] == block_num)\n",
    "        event = data['info'][stim_selection]\n",
    "        event = event.reset_index()\n",
    "        \n",
    "        if event['stim'].to_list()[0] == 'AAAAA': # define the frequent stimulus\n",
    "            data['info'].loc[stim_selection, 'stim_type'] = np.where(event['stim']== 'AAAAA', 'LSGS', 'LDGD')\n",
    "\n",
    "        elif event['stim'].to_list()[0] == 'BBBBB': # define the frequent stimulus\n",
    "            data['info'].loc[stim_selection, 'stim_type'] = np.where(event['stim']== 'BBBBB', 'LSGS', 'LDGD')\n",
    "\n",
    "        elif event['stim'].to_list()[0] == 'AAAAB': # define the frequent stimulus\n",
    "            data['info'].loc[stim_selection, 'stim_type'] = np.where(event['stim']== 'AAAAB', 'LDGS', 'LSGD')\n",
    "\n",
    "        elif event['stim'].to_list()[0] == 'BBBBA': # define the frequent stimulus\n",
    "            data['info'].loc[stim_selection, 'stim_type'] = np.where(event['stim']== 'BBBBA', 'LDGS', 'LSGD')"
   ]
  },
  {
   "cell_type": "code",
   "execution_count": null,
   "metadata": {},
   "outputs": [],
   "source": [
    "print(data['info'])"
   ]
  },
  {
   "cell_type": "code",
   "execution_count": null,
   "metadata": {},
   "outputs": [],
   "source": [
    "line_style = {'LSGS': '--',\n",
    "            'LDGS': '--',\n",
    "            'LSGD': '-',\n",
    "            'LDGD': '-',}\n",
    "line_color = {'LSGS': 'blue',\n",
    "            'LDGS': 'orange',\n",
    "            'LSGD': 'blue',\n",
    "            'LDGD': 'orange',}\n",
    "\n",
    "plt.figure()\n",
    "for condition in ['LSGS', 'LSGD', 'LDGD', 'LDGS']:\n",
    "        erp_mean = np.mean(data['data'][data['info']['stim_type'] == condition, :], axis=0)\n",
    "        erp_sem = scipy.stats.sem(data['data'][data['info']['stim_type'] == condition, :], axis=0)\n",
    "        plt.plot(data['times'],\n",
    "                erp_mean,\n",
    "                label=condition, color=line_color[condition], linestyle=line_style[condition])\n",
    "        plt.fill_between(data['times'],\n",
    "                        (erp_mean-erp_sem), (erp_mean+erp_sem),\n",
    "                        color=line_color[condition], alpha=.1)\n",
    "plt.xlabel('Peristimulus time (s)')\n",
    "plt.ylabel('Pupil size (z units)')\n",
    "plt.legend()"
   ]
  },
  {
   "cell_type": "code",
   "execution_count": null,
   "metadata": {},
   "outputs": [],
   "source": []
  }
 ],
 "metadata": {
  "kernelspec": {
   "display_name": "base",
   "language": "python",
   "name": "python3"
  },
  "language_info": {
   "codemirror_mode": {
    "name": "ipython",
    "version": 3
   },
   "file_extension": ".py",
   "mimetype": "text/x-python",
   "name": "python",
   "nbconvert_exporter": "python",
   "pygments_lexer": "ipython3",
   "version": "3.11.7"
  }
 },
 "nbformat": 4,
 "nbformat_minor": 2
}
