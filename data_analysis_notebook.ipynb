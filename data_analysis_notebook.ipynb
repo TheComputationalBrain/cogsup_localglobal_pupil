{
 "cells": [
  {
   "cell_type": "code",
   "execution_count": null,
   "metadata": {},
   "outputs": [
    {
     "data": {
      "text/plain": [
       "Traceback (most recent call last):\n",
       "  File \"/home/fm239804/.vscode/extensions/ms-python.python-2024.22.2-linux-x64/python_files/python_server.py\", line 133, in exec_user_input\n",
       "    retval = callable_(user_input, user_globals)\n",
       "             ^^^^^^^^^^^^^^^^^^^^^^^^^^^^^^^^^^^\n",
       "  File \"<string>\", line 1\n",
       "    %matplotlib inline\n",
       "    ^\n",
       "SyntaxError: invalid syntax\n",
       "\n"
      ]
     },
     "metadata": {},
     "output_type": "display_data"
    }
   ],
   "source": [
    "%matplotlib inline"
   ]
  },
  {
   "cell_type": "code",
   "execution_count": null,
   "metadata": {},
   "outputs": [
    {
     "data": {
      "text/plain": [
       "Traceback (most recent call last):\n",
       "  File \"/home/fm239804/.vscode/extensions/ms-python.python-2024.22.2-linux-x64/python_files/python_server.py\", line 133, in exec_user_input\n",
       "    retval = callable_(user_input, user_globals)\n",
       "             ^^^^^^^^^^^^^^^^^^^^^^^^^^^^^^^^^^^\n",
       "  File \"<string>\", line 9\n",
       "    %matplotlib inline\n",
       "    ^\n",
       "SyntaxError: invalid syntax\n",
       "\n"
      ]
     },
     "metadata": {},
     "output_type": "display_data"
    }
   ],
   "source": [
    "import glob\n",
    "import os\n",
    "import scipy\n",
    "import numpy as np\n",
    "import pandas as pd\n",
    "import matplotlib.pyplot as plt\n",
    "from data_analysis import process_eyelink_data"
   ]
  },
  {
   "cell_type": "code",
   "execution_count": null,
   "metadata": {},
   "outputs": [],
   "source": [
    "data_files = sorted(glob.glob(os.path.join('example_data_set', '*.asc')))"
   ]
  },
  {
   "cell_type": "code",
   "execution_count": null,
   "metadata": {},
   "outputs": [],
   "source": [
    "data = process_eyelink_data(data_files, baseline=[-0.2, 0], window=[-0.25, 3], reject_epoch=True, plot=True)"
   ]
  },
  {
   "cell_type": "code",
   "execution_count": null,
   "metadata": {},
   "outputs": [],
   "source": [
    "data['info']['stim_type'] = None\n",
    "for sess_num in data['info']['session'].unique():\n",
    "    for block_num in data['info']['block'].unique():\n",
    "\n",
    "        stim_selection = (data['info']['session'] == sess_num) & (data['info']['block'] == block_num)\n",
    "        event = data['info'][stim_selection]\n",
    "        event = event.reset_index()\n",
    "        \n",
    "        if event['stim'].to_list()[0] == 'AAAAA': # define the frequent stimulus\n",
    "            data['info']['stim_type'][stim_selection] = np.where(event['stim']== 'AAAAA', 'LSGS', 'LDGD')\n",
    "\n",
    "        elif event['stim'].to_list()[0] == 'BBBBB': # define the frequent stimulus\n",
    "            data['info']['stim_type'][stim_selection] = np.where(event['stim']== 'BBBBB', 'LSGS', 'LDGD')\n",
    "\n",
    "        elif event['stim'].to_list()[0] == 'AAAAB': # define the frequent stimulus\n",
    "            data['info']['stim_type'][stim_selection] = np.where(event['stim']== 'AAAAB', 'LDGS', 'LSGD')\n",
    "\n",
    "        elif event['stim'].to_list()[0] == 'BBBBA': # define the frequent stimulus\n",
    "            data['info']['stim_type'][stim_selection] = np.where(event['stim']== 'BBBBA', 'LDGS', 'LSGD')"
   ]
  },
  {
   "cell_type": "code",
   "execution_count": null,
   "metadata": {},
   "outputs": [],
   "source": [
    "line_style = {'LSGS': '--',\n",
    "            'LDGS': '--',\n",
    "            'LSGD': '-',\n",
    "            'LDGD': '-',}\n",
    "line_color = {'LSGS': 'blue',\n",
    "            'LDGS': 'orange',\n",
    "            'LSGD': 'blue',\n",
    "            'LDGD': 'orange',}\n",
    "\n",
    "plt.figure()\n",
    "for condition in ['LSGS', 'LSGD', 'LDGD', 'LDGS']:\n",
    "        erp_mean = np.mean(data['data'][data['info']['stim_type'] == condition, :], axis=0)\n",
    "        erp_sem = scipy.stats.sem(data['data'][data['info']['stim_type'] == condition, :], axis=0)\n",
    "        plt.plot(data['times'],\n",
    "                erp_mean,\n",
    "                label=condition, color=line_color[condition], linestyle=line_style[condition])\n",
    "        plt.fill_between(data['times'],\n",
    "                        (erp_mean-erp_sem), (erp_mean+erp_sem),\n",
    "                        color=line_color[condition], alpha=.1)\n",
    "plt.legend()\n",
    "plt.show()"
   ]
  },
  {
   "cell_type": "code",
   "execution_count": null,
   "metadata": {},
   "outputs": [],
   "source": []
  }
 ],
 "metadata": {
  "language_info": {
   "name": "python"
  }
 },
 "nbformat": 4,
 "nbformat_minor": 2
}
